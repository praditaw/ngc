{
 "cells": [
  {
   "cell_type": "markdown",
   "metadata": {},
   "source": [
    "# Non Graded Challenge 1\n",
    "\n",
    "by Pradita Ajeng Wiguna\n",
    "\n",
    "Batch 042-RMT"
   ]
  },
  {
   "cell_type": "markdown",
   "metadata": {},
   "source": [
    "## Task #1"
   ]
  },
  {
   "cell_type": "code",
   "execution_count": 7,
   "metadata": {},
   "outputs": [
    {
     "name": "stdout",
     "output_type": "stream",
     "text": [
      "63\n"
     ]
    }
   ],
   "source": [
    "# Given list of customer_id that doing transaction in 1 day:\n",
    "\n",
    "customer_id = ['B818', 'A461', 'A092', 'A082', 'B341', 'A005', 'A092', 'A461',\n",
    "               'B219', 'B904', 'A901', 'A083', 'B904', 'A092', 'B341', 'B821',\n",
    "               'B341', 'B821', 'B904', 'B818', 'A901', 'A083', 'B818', 'A082',\n",
    "               'B219', 'B219', 'A083', 'A901', 'A082', 'B341', 'B341', 'A083',\n",
    "               'A082', 'B219', 'B439', 'A461', 'A005', 'A901', 'B341', 'A082',\n",
    "               'A083', 'A461', 'A083', 'A901', 'A461', 'A083', 'A082', 'A083',\n",
    "               'B341', 'A901', 'A082', 'A461', 'B219', 'A083', 'B818', 'B821',\n",
    "               'A092', 'B341', 'A461', 'A092', 'A083', 'B821', 'A092']\n",
    "\n",
    "# How many unique customer_id from above list?\n",
    "\n",
    "print(len(customer_id))"
   ]
  },
  {
   "cell_type": "markdown",
   "metadata": {},
   "source": [
    "## Task #2"
   ]
  },
  {
   "cell_type": "code",
   "execution_count": null,
   "metadata": {},
   "outputs": [
    {
     "name": "stdout",
     "output_type": "stream",
     "text": [
      "16\n",
      "[36, 49, 64, 81]\n",
      "[100, 81, 64, 49, 36, 25, 16, 9, 4, 1]\n"
     ]
    }
   ],
   "source": [
    "# Given list of:\n",
    "\n",
    "data = [1, 4, 9, 16, 25, 36, 49, 64, 81, 100]\n",
    "\n",
    "# Use indexing so you can get this output:\n",
    "# a. 16\n",
    "# b. [36, 49, 64, 81]\n",
    "# c. [100, 81, 64, 49, 36, 25, 16, 9, 4, 1]\n",
    "\n",
    "print(data[3])\n",
    "print(data[5:9])\n",
    "print(data[::-1])"
   ]
  },
  {
   "cell_type": "markdown",
   "metadata": {},
   "source": [
    "## Task #3"
   ]
  },
  {
   "cell_type": "code",
   "execution_count": null,
   "metadata": {},
   "outputs": [
    {
     "name": "stdout",
     "output_type": "stream",
     "text": [
      "dict_keys(['Nanggroe Aceh Darussalam', 'Sumatera Selatan', 'Kalimantan Barat', 'Jawa Timur', 'Sulawesi Selatan', 'Maluku'])\n",
      "{'Nanggroe Aceh Darussalam': 'Aceh', 'Sumatera Selatan': 'Palembang', 'Kalimantan Barat': 'Pontianak', 'Jawa Timur': 'Surabaya', 'Sulawesi Selatan': 'Makassar', 'Maluku': 'Ambon'}\n"
     ]
    }
   ],
   "source": [
    "#given a dictionary of:\n",
    "\n",
    "provinsi = {'Nanggroe Aceh Darussalam': 'Aceh',\n",
    "            'Sumatera Selatan': 'Palembang',\n",
    "            'Kalimantan Barat': 'Pontianak',\n",
    "            'Jawa Timur': 'Madiun',\n",
    "            'Sulawesi Selatan': 'Makassar',\n",
    "            'Maluku': 'Ambon'}\n",
    "\"\"\"\n",
    "What python command can be use to:\n",
    "a. Get lit of keys available in dictionary\n",
    "b. Change 'Jawa Timur value from 'Madiun' to 'Surabaya'\n",
    "\"\"\"\n",
    "# a. Get list of keys available in dictionary\n",
    "print(provinsi.keys())\n",
    "\n",
    "# b. Change 'Jawa Timur value from 'Madiun' to 'Surabaya'\n",
    "provinsi['Jawa Timur'] = 'Surabaya'\n",
    "print(provinsi)"
   ]
  }
 ],
 "metadata": {
  "kernelspec": {
   "display_name": "hacktiv8",
   "language": "python",
   "name": "python3"
  },
  "language_info": {
   "codemirror_mode": {
    "name": "ipython",
    "version": 3
   },
   "file_extension": ".py",
   "mimetype": "text/x-python",
   "name": "python",
   "nbconvert_exporter": "python",
   "pygments_lexer": "ipython3",
   "version": "3.12.9"
  }
 },
 "nbformat": 4,
 "nbformat_minor": 2
}
