{
 "cells": [
  {
   "cell_type": "markdown",
   "metadata": {},
   "source": [
    "# Non Graded Challenge 2\n",
    "\n",
    "by Pradita Ajeng Wiguna\n",
    "\n",
    "Batch 042-RMT"
   ]
  },
  {
   "cell_type": "markdown",
   "metadata": {},
   "source": [
    "## Task #1 - Number of Word\n",
    "Create a function that count the number of word in a sentence.\n",
    "Instruction:\n",
    "1. Create function called `number_of_word`.\n",
    "2. This function takes 1 input, `sentence`.\n",
    "3. Inside this function, you can utilize `.split()` method to split the sentence into list of word(s).\n",
    "4. Also, `len()` function to count the element inside a list.\n",
    "5. Return the number of word from the sentence.\n",
    "\n",
    "Example:\n",
    "- Input: number_of_word(sentence = ’Hello World!’)\n",
    "- Output: 2\n",
    "- Input: number_of_word(sentence = ’Once Upon a Time in a faraway land’)\n",
    "- Output: 8"
   ]
  },
  {
   "cell_type": "code",
   "execution_count": 42,
   "metadata": {},
   "outputs": [
    {
     "name": "stdout",
     "output_type": "stream",
     "text": [
      "Number of words:  2\n",
      "Number of words:  8\n"
     ]
    }
   ],
   "source": [
    "# Function Declaration\n",
    "def number_of_word(sentence):\n",
    "    ''' \n",
    "    This function is to count the number of words in a sentence\n",
    "\n",
    "    Input paramater\n",
    "    sentence: str: a sentence to count the number of words\n",
    "    Output Parameter:\n",
    "    n_words: int: number of words in the sentence\n",
    "    '''\n",
    "    n_words = len(sentence.split())\n",
    "    return n_words\n",
    "\n",
    "# Call the function\n",
    "result = number_of_word(sentence= \"Hello World\")\n",
    "print('Number of words: ', result)\n",
    "result = number_of_word(sentence= \"Once Upon a Time in a faraway land\")\n",
    "print('Number of words: ', result)"
   ]
  },
  {
   "cell_type": "markdown",
   "metadata": {},
   "source": [
    "## Task #2 - Find Multiple\n",
    "Create a function that will get list of number(s) from a certain range that multiples of given number.\n",
    "Instruction:\n",
    "1. Create function called `find_multiples`.\n",
    "2. This function takes 3 input: `start_range`, `end_range`, and `multiple`.\n",
    "3. From every number within the given range, check if that number is the mutliples of `multiple`.\n",
    "4. Return list of the possible multiple number(s).\n",
    "\n",
    "Example:\n",
    "- Input: find_multiple(start_range= 1, end_range= 20, multiple= 5)\n",
    "- Output: [5, 10, 15, 20]\n",
    "- Input: find_multiple(start_range= 1, end_range= 50, multiple= 10)\n",
    "- Output: [10, 20, 30, 40, 50]"
   ]
  },
  {
   "cell_type": "code",
   "execution_count": 45,
   "metadata": {},
   "outputs": [
    {
     "name": "stdout",
     "output_type": "stream",
     "text": [
      "Multiples of 5:  [5, 10, 15, 20]\n",
      "Multiples of 10:  [10, 20, 30, 40, 50]\n"
     ]
    }
   ],
   "source": [
    "# Function Declaration\n",
    "\n",
    "def find_multiples(start_range, end_range, multiple):\n",
    "    '''\n",
    "    This function is to find multiples of a number within a range\n",
    "    \n",
    "    Input Parameters:\n",
    "    start_range (int): the starting number of the range\n",
    "    end_range (int): the ending number of the range\n",
    "    multiple (int): the number to find multiples of\n",
    "    \n",
    "    Output Parameter:\n",
    "    multiples_number (list): a list of multiples of the number within the range\n",
    "    '''\n",
    "    multiples_number = []\n",
    "    for num in range(start_range, end_range + 1):\n",
    "        if num % multiple == 0:\n",
    "            multiples_number.append(num)\n",
    "    return multiples_number\n",
    "            \n",
    "# Call the function\n",
    "result = find_multiples(start_range= 1, end_range= 20, multiple= 5)\n",
    "print('Multiples of 5: ', result)\n",
    "result = find_multiples(start_range= 1, end_range= 50, multiple= 10)\n",
    "print('Multiples of 10: ', result)"
   ]
  },
  {
   "cell_type": "markdown",
   "metadata": {},
   "source": [
    "## Task #3 - Grade Converter\n",
    "Create a function that will convert student’s grade to GPA.\n",
    "Instruction:\n",
    "1. Create function called `Grade_Converter`.\n",
    "2. This function takes input: `convert_to` and n-paired of student(s) name with its respective score.\n",
    "3. Input argument for `convert_to` is either `letter_grade` or `gpa`\n",
    "4. You can utilize **kwargs input argument to generate n-length paired of student(s) name with its respective score (Dictionary).\n",
    "5. This function will return dictionary of student’s name along with converted Letter Grade or GPA, depending on user input in `convert_to` parameter\n",
    "\n",
    "Example:\n",
    "- Input: Grade_Converter(convert_to='gpa', Adam=62, Faiz=91)\n",
    "- Output: {'Adam': 2.5, 'Faiz': 4}\n",
    "- Input: Grade_Converter(convert_to='letter_grade', Albert=90, Dwi=82, Syahdan=58, Veronica=84)\n",
    "- Output: {'Albert': 'A', 'Dwi': 'B', 'Syahdan': 'D','Veronica': 'B'}"
   ]
  },
  {
   "cell_type": "code",
   "execution_count": null,
   "metadata": {},
   "outputs": [],
   "source": [
    "# Function Declaration\n",
    "\n",
    "def grade_converter(convert_to, **kwargs):\n",
    "    for name, score in kwargs.items():\n",
    "        if convert_to == 'gpa':\n",
    "            score = kwargs['gpa']\n",
    "            if 80 <= score <= 100:\n",
    "                return 4\n",
    "            elif score >= 70 and score <= 84.99:\n",
    "                return 3\n",
    "            elif score >= 60 and score <= 69.99:\n",
    "                return 2.5\n",
    "            elif score >= 50 and score <= 59.99:\n",
    "                return 2\n",
    "            elif score >= 40 and score <= 49.99:\n",
    "                return 1.5\n",
    "            elif score >= 0 and score <= 59.99:\n",
    "                return 1\n",
    "            \n",
    "        elif convert_to == 'letter_grade':\n",
    "            marks = kwargs['letter_grade']\n",
    "            if marks == 'A':\n",
    "                return 'Excellent'\n",
    "            elif marks == 'B':\n",
    "                return 'Very Good'\n",
    "            elif marks == 'C':\n",
    "                return 'Good'\n",
    "            elif marks == 'D':\n",
    "                return 'Pass'\n",
    "            else:\n",
    "                return 'Fail'\n"
   ]
  },
  {
   "cell_type": "markdown",
   "metadata": {},
   "source": [
    "## Task #4 - Fibonacci Sequence\n",
    "Fibonacci sequence is a sequence in which each number is the sum of the two preceding ones. \n",
    "Suppose we have fibonacci sequence started with:\n",
    "\n",
    "0, 1, 1, 2, 3, 5, ...\n",
    "\n",
    "The next number should be 8 or sum of the two precedings, 3 and 5:\n",
    "\n",
    "0, 1, 1, 2, 3, 5, 8, ...\n",
    "\n",
    "\n",
    "Then the next number should be 13 or sum of the two precedings, 5 and 8:\n",
    "\n",
    "0, 1, 1, 2, 3, 5, 8, 13,  ...\n",
    "\n",
    "And so on.\n",
    "\n",
    "Create a function that will return the value of n-th fibonacci number.\n",
    "\n",
    "Instruction:\n",
    "1. The function will take 1 input parameter, n, represents the asked number from our fibonacci sequence index.\n",
    "2. The fibonacci sequence will start with the value of 0 and 1. \n",
    "3. This function will return the n-th value from fibonacci sequence.\n",
    "\n",
    "Example:\n",
    "- Input: my_function(n=0)\n",
    "- Output: 0\n",
    "- Input: my_function(n=4)\n",
    "- Output: 3\n",
    "- Input: my_function(n=10)\n",
    "- Output: 55\n"
   ]
  },
  {
   "cell_type": "code",
   "execution_count": null,
   "metadata": {},
   "outputs": [
    {
     "name": "stdout",
     "output_type": "stream",
     "text": [
      "Fibonacci Sequence:  0\n",
      "Fibonacci Sequence:  3\n",
      "Fibonacci Sequence:  55\n"
     ]
    }
   ],
   "source": [
    "# Function Declaration\n",
    "\n",
    "def my_function(n):\n",
    "    ''' \n",
    "    This function is to return the value of n-th fibonacci number.\n",
    "\n",
    "    Input Parameter\n",
    "    n (int): the position of the fibonacci number to return\n",
    "    Output Parameter:\n",
    "    fib_sequence[n] (int): the value of the n-th fibonacci\n",
    "    '''\n",
    "    fib_sequence = [0, 1]\n",
    "    for nth_value in range (2, n + 1):\n",
    "        next_value = fib_sequence[nth_value - 1] + fib_sequence[nth_value - 2]\n",
    "        fib_sequence.append(next_value)\n",
    "    return fib_sequence[n]\n",
    "\n",
    "# Call the function\n",
    "result = my_function(n= 0)\n",
    "print('Fibonacci Sequence: ', result)\n",
    "result = my_function(n= 4)\n",
    "print('Fibonacci Sequence: ', result)\n",
    "result = my_function(n= 10)\n",
    "print('Fibonacci Sequence: ', result)"
   ]
  }
 ],
 "metadata": {
  "kernelspec": {
   "display_name": "hacktiv8",
   "language": "python",
   "name": "python3"
  },
  "language_info": {
   "codemirror_mode": {
    "name": "ipython",
    "version": 3
   },
   "file_extension": ".py",
   "mimetype": "text/x-python",
   "name": "python",
   "nbconvert_exporter": "python",
   "pygments_lexer": "ipython3",
   "version": "3.12.9"
  }
 },
 "nbformat": 4,
 "nbformat_minor": 2
}
